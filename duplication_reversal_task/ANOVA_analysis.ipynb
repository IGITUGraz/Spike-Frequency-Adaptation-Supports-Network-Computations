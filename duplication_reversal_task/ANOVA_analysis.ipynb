{
 "cells": [
  {
   "cell_type": "code",
   "execution_count": 1,
   "metadata": {},
   "outputs": [],
   "source": [
    "%load_ext autoreload\n",
    "%autoreload 2\n",
    "%matplotlib inline\n",
    "\n",
    "import matplotlib as mpl\n",
    "\n",
    "mpl.rcParams['axes.labelsize'] = 'large'\n",
    "new_rc_params = {'text.usetex': False,\n",
    "'font.sans-serif': 'Arial'\n",
    "}\n",
    "mpl.rcParams.update(new_rc_params)\n",
    "\n",
    "import matplotlib.pyplot as plt\n",
    "import matplotlib.ticker as ticker\n",
    "# https://stackoverflow.com/a/18926541/12649\n",
    "import matplotlib.colors as colors\n",
    "import matplotlib.patches as patches\n",
    "\n",
    "prop_cycle = plt.rcParams['axes.prop_cycle']\n",
    "colorss = prop_cycle.by_key()['color']\n",
    "\n",
    "import os\n",
    "import gzip\n",
    "import pickle\n",
    "\n",
    "import numpy as np\n",
    "import random\n",
    "from scipy.stats import ttest_ind\n",
    "\n",
    "from simrecorder import ZarrDataStore"
   ]
  },
  {
   "cell_type": "markdown",
   "metadata": {},
   "source": [
    "# Load data"
   ]
  },
  {
   "cell_type": "code",
   "execution_count": 2,
   "metadata": {},
   "outputs": [],
   "source": [
    "dpath = '/calc/ceca/output/Strings-OH/alif-89596-D22-10-2019-T09-06-46/results'\n",
    "dpath_test = dpath\n",
    "\n",
    "hd = ZarrDataStore(os.path.join(dpath, 'data.mdb'))\n",
    "hd_test = ZarrDataStore(os.path.join(dpath_test, 'data.mdb'))"
   ]
  },
  {
   "cell_type": "code",
   "execution_count": 3,
   "metadata": {},
   "outputs": [
    {
     "name": "stdout",
     "output_type": "stream",
     "text": [
      "(1000, 50, 6000, 175) (1000, 50, 12, 35) (1000, 50, 6, 32)\n",
      "(1000, 50, 6) (1000, 50, 12, 32) (1000, 50, 6000, 320)\n"
     ]
    }
   ],
   "source": [
    "test_input_spikes = hd_test.get_all('test/input')\n",
    "test_input_analog = hd_test.get_all('test/input_analog')\n",
    "test_targets = hd_test.get_all('test/target')\n",
    "\n",
    "test_output = hd_test.get_all('test/actual_output')\n",
    "test_all_probs = hd_test.get_all('test/all_probs')\n",
    "states = hd_test.get_all('test/states')\n",
    "print(test_input_spikes.shape, test_input_analog.shape, test_targets.shape)\n",
    "print(test_output.shape, test_all_probs.shape, states.shape)"
   ]
  },
  {
   "cell_type": "code",
   "execution_count": 4,
   "metadata": {},
   "outputs": [],
   "source": [
    "n_iter = test_input_analog.shape[0]\n",
    "n_ep = test_input_analog.shape[1]\n",
    "n_steps = 5 \n",
    "num_neurons = states.shape[-1]\n",
    "num_symbols = 31 # Letter-symbols with indices 0-30\n",
    "steps_ms = 500"
   ]
  },
  {
   "cell_type": "code",
   "execution_count": 5,
   "metadata": {},
   "outputs": [
    {
     "name": "stdout",
     "output_type": "stream",
     "text": [
      "(1000, 50, 5)\n"
     ]
    }
   ],
   "source": [
    "episodes = np.argmax(test_input_analog[:, :, :5, :], axis=-1)\n",
    "print(episodes.shape)"
   ]
  },
  {
   "cell_type": "code",
   "execution_count": 6,
   "metadata": {},
   "outputs": [
    {
     "name": "stdout",
     "output_type": "stream",
     "text": [
      "(1000, 50)\n",
      "25007\n",
      "(1000, 50)\n",
      "24993\n"
     ]
    }
   ],
   "source": [
    "ind_id = (test_input_analog[:, :, 0, -2] == 1)\n",
    "print(ind_id.shape)\n",
    "num_id_episodes = np.sum(ind_id)\n",
    "print(num_id_episodes)\n",
    "\n",
    "ind_rev = (test_input_analog[:, :, 0, -1] == 1)\n",
    "print(ind_rev.shape)\n",
    "num_rev_episodes = np.sum(ind_rev)\n",
    "print(num_rev_episodes)"
   ]
  },
  {
   "cell_type": "code",
   "execution_count": 7,
   "metadata": {},
   "outputs": [
    {
     "name": "stdout",
     "output_type": "stream",
     "text": [
      "(1000, 50, 5, 320)\n"
     ]
    }
   ],
   "source": [
    "# Read in spike_counts, OR calculate them and save them (next cell)\n",
    "with open(os.path.join(dpath, 'spike_counts.pkl'), 'rb') as f:\n",
    "    spike_counts = pickle.load(f) \n",
    "print(spike_counts.shape)       "
   ]
  },
  {
   "cell_type": "code",
   "execution_count": 9,
   "metadata": {},
   "outputs": [
    {
     "name": "stdout",
     "output_type": "stream",
     "text": [
      "Running for indices from 0 to 100\n",
      "Running for indices from 100 to 200\n",
      "Running for indices from 200 to 300\n",
      "Running for indices from 300 to 400\n",
      "Running for indices from 400 to 500\n",
      "Running for indices from 500 to 600\n",
      "Running for indices from 600 to 700\n",
      "Running for indices from 700 to 800\n",
      "Running for indices from 800 to 900\n",
      "Running for indices from 900 to 1000\n",
      "(1000, 50, 5, 320)\n"
     ]
    }
   ],
   "source": [
    "# sl = 100\n",
    "# bt = 50\n",
    "# nn = 320\n",
    "# nit = 1000\n",
    "\n",
    "# spike_counts = np.empty((nit, bt, 5, nn))\n",
    "# for i in range(0, nit, sl):\n",
    "#     print(\"Running for indices from %d to %d\" % (i , i + sl))\n",
    "#     arr = states[i:(i+sl), :, :5*steps_ms, :].reshape(sl, bt, 5, steps_ms, nn)\n",
    "#     spike_counts[i:(i+sl), ...] = np.sum(arr, axis=3)\n",
    "    \n",
    "# print(spike_counts.shape)\n",
    "# with open(os.path.join(dpath, 'spike_counts.pkl'), 'wb') as f:\n",
    "#     pickle.dump(spike_counts, f)"
   ]
  },
  {
   "cell_type": "code",
   "execution_count": 8,
   "metadata": {},
   "outputs": [
    {
     "name": "stdout",
     "output_type": "stream",
     "text": [
      "(25007, 5, 320)\n"
     ]
    }
   ],
   "source": [
    "id_ep = np.tile(ind_id[:, :, None, None], (1, 1, 5, 320))\n",
    "id_spks = spike_counts[id_ep].reshape(-1, 5, 320)\n",
    "print(id_spks.shape)"
   ]
  },
  {
   "cell_type": "code",
   "execution_count": 9,
   "metadata": {},
   "outputs": [
    {
     "name": "stdout",
     "output_type": "stream",
     "text": [
      "(24993, 5, 320)\n"
     ]
    }
   ],
   "source": [
    "rev_ep = np.tile(ind_rev[:, :, None, None], (1, 1, 5, 320))\n",
    "rev_spks = spike_counts[rev_ep].reshape(-1, 5, 320)\n",
    "print(rev_spks.shape)"
   ]
  },
  {
   "cell_type": "code",
   "execution_count": 10,
   "metadata": {},
   "outputs": [
    {
     "data": {
      "text/plain": [
       "(1000, 50, 5, 320)"
      ]
     },
     "execution_count": 10,
     "metadata": {},
     "output_type": "execute_result"
    }
   ],
   "source": [
    "spike_counts.shape"
   ]
  },
  {
   "cell_type": "markdown",
   "metadata": {},
   "source": [
    "# Three-way ANOVA"
   ]
  },
  {
   "cell_type": "code",
   "execution_count": 11,
   "metadata": {},
   "outputs": [],
   "source": [
    "import pingouin as pg\n",
    "\n",
    "import pandas as pd\n",
    "import statsmodels.api as sm\n",
    "from statsmodels.formula.api import ols"
   ]
  },
  {
   "cell_type": "code",
   "execution_count": 12,
   "metadata": {},
   "outputs": [
    {
     "name": "stdout",
     "output_type": "stream",
     "text": [
      "(1000, 50, 5, 320)\n",
      "(50000, 5, 320)\n",
      "(50000, 320)\n",
      "(320,)\n",
      "(320,) 279\n"
     ]
    }
   ],
   "source": [
    "# Load spikes_counts, and discard neurons with FR < 2Hz and > 60Hz\n",
    "with open(os.path.join(dpath, 'spike_counts.pkl'), 'rb') as f:\n",
    "    spike_counts = pickle.load(f) \n",
    "print(spike_counts.shape)\n",
    "\n",
    "spike_counts_tmp = spike_counts.reshape((-1, 5, 320))\n",
    "print(spike_counts_tmp.shape)\n",
    "\n",
    "mean_spk_cnts = np.mean(spike_counts_tmp, axis=1)\n",
    "print(mean_spk_cnts.shape)\n",
    "\n",
    "mean_spk_fr = mean_spk_cnts / 0.5\n",
    "mean_spk_fr_per_neuron = np.mean(mean_spk_fr, axis=0)\n",
    "print(mean_spk_fr_per_neuron.shape)\n",
    "\n",
    "ind_neurons = np.logical_and(mean_spk_fr_per_neuron >= 2, mean_spk_fr_per_neuron <= 60)\n",
    "# ind_neurons = mean_spk_fr_per_neuron >= 2\n",
    "print(ind_neurons.shape, np.sum(ind_neurons))\n",
    "\n",
    "lst_neurons = list(np.where(ind_neurons == True)[0]) # neurons after discarding the outliers\n",
    "# print(lst_neurons)"
   ]
  },
  {
   "cell_type": "code",
   "execution_count": 13,
   "metadata": {},
   "outputs": [
    {
     "name": "stdout",
     "output_type": "stream",
     "text": [
      "(50000, 2)\n",
      "50000\n"
     ]
    }
   ],
   "source": [
    "task_id = test_input_analog[:, :, 0, -2:]\n",
    "task_id = task_id.reshape((-1, 2))\n",
    "task_idx = np.argmax(task_id, axis=1)\n",
    "\n",
    "num_ep = spike_counts.shape[0] * spike_counts.shape[1]\n",
    "all_episodes = episodes.reshape((num_ep, 5))\n",
    "\n",
    "print(task_id.shape)\n",
    "print(num_ep)"
   ]
  },
  {
   "cell_type": "code",
   "execution_count": 14,
   "metadata": {},
   "outputs": [
    {
     "name": "stdout",
     "output_type": "stream",
     "text": [
      "161.29032258064515 135 196\n"
     ]
    },
    {
     "data": {
      "image/png": "[encoded data removed]",
      "text/plain": [
       "<Figure size 432x288 with 1 Axes>"
      ]
     },
     "metadata": {},
     "output_type": "display_data"
    }
   ],
   "source": [
    "# Generate \"balanced\" test set\n",
    "random.seed(3000)\n",
    "np.random.seed(3000)\n",
    "\n",
    "gen_again = True\n",
    "while gen_again:\n",
    "    rnd_pos = np.random.randint(5, size=num_ep)\n",
    "    sym_rnd_steps = all_episodes[np.arange(num_ep), rnd_pos]\n",
    "    \n",
    "    code_dct = {}\n",
    "    for i in range(num_ep):\n",
    "        seq = [task_idx[i], rnd_pos[i], sym_rnd_steps[i]]\n",
    "        str_seq = '.'.join([str(int(x)) for x in seq])\n",
    "        if str_seq in code_dct:\n",
    "            code_dct[str_seq] += 1\n",
    "        else:\n",
    "            code_dct[str_seq] = 1\n",
    "\n",
    "    dct_vals = list(code_dct.values())\n",
    "    \n",
    "    if np.max(dct_vals) - np.min(dct_vals) <= 62:\n",
    "        gen_again = False\n",
    "        print(np.mean(dct_vals), np.min(dct_vals), np.max(dct_vals))\n",
    "\n",
    "mn = np.min(dct_vals)\n",
    "\n",
    "fig = plt.plot(np.sort(dct_vals))\n",
    "fig = plt.plot(dct_vals)"
   ]
  },
  {
   "cell_type": "code",
   "execution_count": 15,
   "metadata": {},
   "outputs": [
    {
     "name": "stdout",
     "output_type": "stream",
     "text": [
      "Number of examples per condition used:  135\n"
     ]
    }
   ],
   "source": [
    "mn = np.min(dct_vals)\n",
    "sym_rnd_steps = all_episodes[np.arange(num_ep), rnd_pos]\n",
    "\n",
    "cnt_dct = {}\n",
    "dp_to_take = np.ones((num_ep, ), dtype=bool) # Datapoints to take\n",
    "for i in range(num_ep):\n",
    "    seq = [task_idx[i], rnd_pos[i], sym_rnd_steps[i]]\n",
    "    str_seq = '.'.join([str(int(x)) for x in seq])\n",
    "    if str_seq in cnt_dct:\n",
    "        cnt_dct[str_seq] += 1\n",
    "    else:\n",
    "        cnt_dct[str_seq] = 1\n",
    "    \n",
    "    if cnt_dct[str_seq] > mn:\n",
    "        dp_to_take[i] = False\n",
    "assert np.sum(dp_to_take) == 2 * 5 * 31 * mn\n",
    "print('Number of examples per condition used: ', mn)"
   ]
  },
  {
   "cell_type": "code",
   "execution_count": 16,
   "metadata": {},
   "outputs": [],
   "source": [
    "results_neuron = np.zeros((320, 8, 4))\n",
    "rest_of_results_neuron = np.zeros((320, 8, 4))\n",
    "\n",
    "tmp_rates = spike_counts.reshape(-1, 5, 320)\n",
    "sym_rnd_steps = all_episodes[dp_to_take, rnd_pos[dp_to_take]]\n",
    "\n",
    "for neuron_i in lst_neurons:\n",
    "    tmp_rates_neur = tmp_rates[:, :, neuron_i]\n",
    "    tmp_rates_rnd_steps = tmp_rates_neur[dp_to_take, rnd_pos[dp_to_take]]\n",
    "    \n",
    "    df = pd.DataFrame({\"Task\": task_idx[dp_to_take],\n",
    "                       \"Position\": rnd_pos[dp_to_take], \n",
    "                       \"Symbol\": sym_rnd_steps, \n",
    "                       \"Rates\": tmp_rates_rnd_steps})\n",
    "    \n",
    "    aov = df.anova(dv='Rates', between=['Task', 'Position', 'Symbol'], ss_type=2)\n",
    "    aov['eta_sq'] = aov[:-1]['SS']/sum(aov['SS'])\n",
    "    aov['omega_sq'] = (aov[:-1]['SS']-(aov[:-1]['DF']*aov['MS'][7]))/(sum(aov['SS'])+aov['MS'][7])\n",
    "    label_list = [str(neuron_i), str(neuron_i), str(neuron_i), str(neuron_i), \n",
    "                  str(neuron_i), str(neuron_i), str(neuron_i), str(neuron_i)]\n",
    "    aov['neuron_idx'] = label_list\n",
    "        \n",
    "    results_neuron[neuron_i, :, 0] = aov['F']\n",
    "    results_neuron[neuron_i, :, 1] = aov['p-unc']\n",
    "    results_neuron[neuron_i, :, 2] = aov['eta_sq']\n",
    "    results_neuron[neuron_i, :, 3] = aov['omega_sq']\n",
    "    \n",
    "    rest_of_results_neuron[neuron_i, :, 0] = aov['SS']\n",
    "    rest_of_results_neuron[neuron_i, :, 1] = aov['DF']\n",
    "    rest_of_results_neuron[neuron_i, :, 2] = aov['MS']\n",
    "    rest_of_results_neuron[neuron_i, :, 3] = aov['np2']"
   ]
  },
  {
   "cell_type": "code",
   "execution_count": 17,
   "metadata": {},
   "outputs": [
    {
     "data": {
      "text/plain": [
       "((41850,), (41850,), (41850,), (41850,))"
      ]
     },
     "execution_count": 17,
     "metadata": {},
     "output_type": "execute_result"
    }
   ],
   "source": [
    "task_idx[dp_to_take].shape, rnd_pos[dp_to_take].shape, sym_rnd_steps.shape, tmp_rates_rnd_steps.shape"
   ]
  },
  {
   "cell_type": "code",
   "execution_count": 18,
   "metadata": {},
   "outputs": [
    {
     "data": {
      "text/html": [
       "<div>\n",
       "<style scoped>\n",
       "    .dataframe tbody tr th:only-of-type {\n",
       "        vertical-align: middle;\n",
       "    }\n",
       "\n",
       "    .dataframe tbody tr th {\n",
       "        vertical-align: top;\n",
       "    }\n",
       "\n",
       "    .dataframe thead th {\n",
       "        text-align: right;\n",
       "    }\n",
       "</style>\n",
       "<table border=\"1\" class=\"dataframe\">\n",
       "  <thead>\n",
       "    <tr style=\"text-align: right;\">\n",
       "      <th></th>\n",
       "      <th>Source</th>\n",
       "      <th>SS</th>\n",
       "      <th>DF</th>\n",
       "      <th>MS</th>\n",
       "      <th>F</th>\n",
       "      <th>p-unc</th>\n",
       "      <th>np2</th>\n",
       "      <th>eta_sq</th>\n",
       "      <th>omega_sq</th>\n",
       "      <th>neuron_idx</th>\n",
       "    </tr>\n",
       "  </thead>\n",
       "  <tbody>\n",
       "    <tr>\n",
       "      <th>0</th>\n",
       "      <td>Task</td>\n",
       "      <td>4397.523</td>\n",
       "      <td>1.0</td>\n",
       "      <td>4397.523</td>\n",
       "      <td>420.935</td>\n",
       "      <td>4.426979e-93</td>\n",
       "      <td>0.010</td>\n",
       "      <td>0.000157</td>\n",
       "      <td>0.000157</td>\n",
       "      <td>319</td>\n",
       "    </tr>\n",
       "    <tr>\n",
       "      <th>1</th>\n",
       "      <td>Position</td>\n",
       "      <td>3713694.898</td>\n",
       "      <td>4.0</td>\n",
       "      <td>928423.725</td>\n",
       "      <td>88869.596</td>\n",
       "      <td>0.000000e+00</td>\n",
       "      <td>0.895</td>\n",
       "      <td>0.132707</td>\n",
       "      <td>0.132706</td>\n",
       "      <td>319</td>\n",
       "    </tr>\n",
       "    <tr>\n",
       "      <th>2</th>\n",
       "      <td>Symbol</td>\n",
       "      <td>8866272.495</td>\n",
       "      <td>30.0</td>\n",
       "      <td>295542.416</td>\n",
       "      <td>28289.599</td>\n",
       "      <td>0.000000e+00</td>\n",
       "      <td>0.953</td>\n",
       "      <td>0.316833</td>\n",
       "      <td>0.316821</td>\n",
       "      <td>319</td>\n",
       "    </tr>\n",
       "    <tr>\n",
       "      <th>3</th>\n",
       "      <td>Task * Position</td>\n",
       "      <td>3061954.096</td>\n",
       "      <td>4.0</td>\n",
       "      <td>765488.524</td>\n",
       "      <td>73273.285</td>\n",
       "      <td>0.000000e+00</td>\n",
       "      <td>0.876</td>\n",
       "      <td>0.109418</td>\n",
       "      <td>0.109416</td>\n",
       "      <td>319</td>\n",
       "    </tr>\n",
       "    <tr>\n",
       "      <th>4</th>\n",
       "      <td>Task * Symbol</td>\n",
       "      <td>15403.179</td>\n",
       "      <td>30.0</td>\n",
       "      <td>513.439</td>\n",
       "      <td>49.147</td>\n",
       "      <td>2.464928e-286</td>\n",
       "      <td>0.034</td>\n",
       "      <td>0.000550</td>\n",
       "      <td>0.000539</td>\n",
       "      <td>319</td>\n",
       "    </tr>\n",
       "    <tr>\n",
       "      <th>5</th>\n",
       "      <td>Position * Symbol</td>\n",
       "      <td>6777976.414</td>\n",
       "      <td>120.0</td>\n",
       "      <td>56483.137</td>\n",
       "      <td>5406.619</td>\n",
       "      <td>0.000000e+00</td>\n",
       "      <td>0.940</td>\n",
       "      <td>0.242208</td>\n",
       "      <td>0.242163</td>\n",
       "      <td>319</td>\n",
       "    </tr>\n",
       "    <tr>\n",
       "      <th>6</th>\n",
       "      <td>Task * Position * Symbol</td>\n",
       "      <td>5110409.142</td>\n",
       "      <td>120.0</td>\n",
       "      <td>42586.743</td>\n",
       "      <td>4076.443</td>\n",
       "      <td>0.000000e+00</td>\n",
       "      <td>0.922</td>\n",
       "      <td>0.182618</td>\n",
       "      <td>0.182574</td>\n",
       "      <td>319</td>\n",
       "    </tr>\n",
       "    <tr>\n",
       "      <th>7</th>\n",
       "      <td>Residual</td>\n",
       "      <td>433969.807</td>\n",
       "      <td>41540.0</td>\n",
       "      <td>10.447</td>\n",
       "      <td>NaN</td>\n",
       "      <td>NaN</td>\n",
       "      <td>NaN</td>\n",
       "      <td>NaN</td>\n",
       "      <td>NaN</td>\n",
       "      <td>319</td>\n",
       "    </tr>\n",
       "  </tbody>\n",
       "</table>\n",
       "</div>"
      ],
      "text/plain": [
       "                     Source           SS       DF          MS          F  \\\n",
       "0                      Task     4397.523      1.0    4397.523    420.935   \n",
       "1                  Position  3713694.898      4.0  928423.725  88869.596   \n",
       "2                    Symbol  8866272.495     30.0  295542.416  28289.599   \n",
       "3           Task * Position  3061954.096      4.0  765488.524  73273.285   \n",
       "4             Task * Symbol    15403.179     30.0     513.439     49.147   \n",
       "5         Position * Symbol  6777976.414    120.0   56483.137   5406.619   \n",
       "6  Task * Position * Symbol  5110409.142    120.0   42586.743   4076.443   \n",
       "7                  Residual   433969.807  41540.0      10.447        NaN   \n",
       "\n",
       "           p-unc    np2    eta_sq  omega_sq neuron_idx  \n",
       "0   4.426979e-93  0.010  0.000157  0.000157        319  \n",
       "1   0.000000e+00  0.895  0.132707  0.132706        319  \n",
       "2   0.000000e+00  0.953  0.316833  0.316821        319  \n",
       "3   0.000000e+00  0.876  0.109418  0.109416        319  \n",
       "4  2.464928e-286  0.034  0.000550  0.000539        319  \n",
       "5   0.000000e+00  0.940  0.242208  0.242163        319  \n",
       "6   0.000000e+00  0.922  0.182618  0.182574        319  \n",
       "7            NaN    NaN       NaN       NaN        319  "
      ]
     },
     "execution_count": 18,
     "metadata": {},
     "output_type": "execute_result"
    }
   ],
   "source": [
    "aov # table for the last neuron that was analyzed"
   ]
  },
  {
   "cell_type": "code",
   "execution_count": null,
   "metadata": {},
   "outputs": [],
   "source": []
  },
  {
   "cell_type": "code",
   "execution_count": 19,
   "metadata": {},
   "outputs": [
    {
     "name": "stdout",
     "output_type": "stream",
     "text": [
      "(320, 7)\n",
      "0.14743054961016325 14\n",
      "0.9075644528930873 97\n",
      "0.9432165741371948 121\n",
      "0.6784993176437883 253\n",
      "0.07167002746752539 30\n",
      "0.5310694726867291 206\n",
      "0.4370244049327183 7\n"
     ]
    }
   ],
   "source": [
    "# Maximum omega_sq per category and the neuron for which it is the case\n",
    "tmp = results_neuron[:, :-1, 3] # omega_sq for each neuron, and each category (see the rows of aov table)\n",
    "print(tmp.shape)\n",
    "\n",
    "for i in range(7): # 7 out of 8 rows in aov table, discarding the row \"Residuals\" \n",
    "    print(np.max(tmp[:, i]), np.argmax(tmp[:, i]))"
   ]
  },
  {
   "cell_type": "markdown",
   "metadata": {},
   "source": [
    "# Count per category"
   ]
  },
  {
   "cell_type": "code",
   "execution_count": 20,
   "metadata": {
    "scrolled": true
   },
   "outputs": [
    {
     "name": "stdout",
     "output_type": "stream",
     "text": [
      "Num. neurons with no category:  0\n",
      "[  1.  89. 228. 136.   0. 169. 237.]\n"
     ]
    },
    {
     "data": {
      "text/plain": [
       "[<matplotlib.axis.YTick at 0x7f10c43f6c18>,\n",
       " <matplotlib.axis.YTick at 0x7f10c43f64a8>]"
      ]
     },
     "execution_count": 20,
     "metadata": {},
     "output_type": "execute_result"
    },
    {
     "data": {
      "image/png": "[encoded data removed]",
      "text/plain": [
       "<Figure size 252x360 with 1 Axes>"
      ]
     },
     "metadata": {},
     "output_type": "display_data"
    }
   ],
   "source": [
    "# Count neurons multiple times\n",
    "cat_of_neurons = -1 * np.ones((320, ))\n",
    "categories = np.zeros((7, ))\n",
    "lst_no_cat = []\n",
    "col = 3  # omega_sq\n",
    "\n",
    "for i in lst_neurons:\n",
    "    categorized = False\n",
    "    for cat in range(7):\n",
    "        if results_neuron[i, cat, 1] < 0.001 and results_neuron[i, cat, col] >= 0.14:\n",
    "            categories[cat] += 1\n",
    "            categorized = True\n",
    "            cat_of_neurons[i] = cat\n",
    "    if categorized == False:\n",
    "        lst_no_cat.append(i)\n",
    "\n",
    "print('Num. neurons with no category: ', len(lst_no_cat))\n",
    "print(categories)\n",
    "\n",
    "##################### Histogram ############################\n",
    "fig, ax = plt.subplots(1, 1, figsize=(3.5, 5.0))\n",
    "plt.suptitle('Selectivity of neurons')\n",
    "xx = np.linspace(0, 7, 7)\n",
    "\n",
    "ax.bar(x=xx, height=categories/len(lst_neurons), width=0.75)\n",
    "\n",
    "ax.spines['right'].set_visible(False)\n",
    "ax.spines['top'].set_visible(False)\n",
    "\n",
    "ax.set_ylabel('Fraction of neurons')\n",
    "ax.set_xticks(xx)\n",
    "xtick_labels = ['Task', 'Pos', 'Symbol', 'Task x Pos', 'Task x Symbol', 'Pos x Symbol', 'Task x Pos x Symbol']\n",
    "ax.set_xticklabels(xtick_labels, rotation=75)\n",
    "ax.set_ylim([0, 1.0])\n",
    "ax.set_yticks([0, 1.0])\n",
    "\n",
    "\n",
    "# Save the figure and show it\n",
    "# fig.savefig(os.path.join(dpath_test, 'categories-5.png'), bbox_inches='tight', dpi=175)"
   ]
  },
  {
   "cell_type": "code",
   "execution_count": 21,
   "metadata": {},
   "outputs": [
    {
     "name": "stdout",
     "output_type": "stream",
     "text": [
      "Num. of uncategorized neurons:  0\n",
      "Mean and std of categories per neuron:  3.082437275985663 0.755158941831258\n",
      "Num. of neurons selective exactly for one cat:  9\n",
      "Num. of neurons selective for more than one cat:  270\n"
     ]
    }
   ],
   "source": [
    "col = 3\n",
    "avg_num_of_cat_per_neuron = -1 * np.ones((320, ))\n",
    "\n",
    "for i in lst_neurons:\n",
    "    avg_num_of_cat_per_neuron[i] = 0\n",
    "    for cat in range(7):\n",
    "        if results_neuron[i, cat, 1] < 0.001 and results_neuron[i, cat, col] >= 0.14:\n",
    "            avg_num_of_cat_per_neuron[i] += 1\n",
    "print('Num. of uncategorized neurons: ', np.sum(avg_num_of_cat_per_neuron == 0))\n",
    "print('Mean and std of categories per neuron: ', np.mean(avg_num_of_cat_per_neuron[lst_neurons]), np.std(avg_num_of_cat_per_neuron[lst_neurons])) \n",
    "print('Num. of neurons selective exactly for one cat: ', np.sum(avg_num_of_cat_per_neuron == 1))\n",
    "print('Num. of neurons selective for more than one cat: ', np.sum(avg_num_of_cat_per_neuron > 1))"
   ]
  },
  {
   "cell_type": "code",
   "execution_count": 22,
   "metadata": {},
   "outputs": [
    {
     "name": "stdout",
     "output_type": "stream",
     "text": [
      "Task :  (array([], dtype=int64),)\n",
      "Pos :  (array([82, 97]),)\n",
      "Symbol :  (array([  0,  17, 101, 121, 139, 192, 217]),)\n",
      "Task x Pos :  (array([ 14,  52,  80,  93, 149, 182, 189, 215, 235, 251, 252, 253, 302]),)\n",
      "Task x Symbol :  (array([], dtype=int64),)\n",
      "Pos x Symbol :  (array([  4,  36,  54,  59, 109, 116, 141, 169, 185, 186, 206, 209, 240,\n",
      "       258, 262, 281, 285, 289, 297, 316]),)\n",
      "Task x Pos x Symbol :  (array([  1,   3,   7,   8,   9,  10,  11,  13,  15,  16,  18,  19,  22,\n",
      "        23,  24,  25,  26,  27,  29,  30,  31,  32,  33,  34,  37,  38,\n",
      "        40,  43,  45,  47,  48,  50,  51,  53,  55,  56,  57,  58,  60,\n",
      "        62,  66,  67,  68,  70,  72,  73,  74,  76,  77,  79,  81,  84,\n",
      "        88,  91,  92,  95,  96,  98, 102, 103, 104, 105, 106, 107, 108,\n",
      "       110, 111, 113, 114, 117, 118, 119, 120, 123, 124, 125, 126, 128,\n",
      "       129, 130, 131, 132, 133, 134, 135, 136, 137, 138, 140, 143, 144,\n",
      "       145, 146, 147, 148, 150, 151, 152, 153, 154, 155, 156, 157, 158,\n",
      "       159, 160, 161, 162, 163, 164, 165, 166, 167, 168, 170, 171, 172,\n",
      "       174, 175, 176, 177, 178, 179, 180, 181, 183, 184, 187, 188, 190,\n",
      "       191, 193, 194, 195, 196, 197, 198, 199, 200, 201, 202, 203, 204,\n",
      "       207, 208, 210, 211, 212, 213, 214, 216, 218, 219, 220, 221, 222,\n",
      "       223, 224, 225, 226, 228, 229, 230, 231, 232, 233, 234, 236, 237,\n",
      "       238, 239, 241, 242, 243, 244, 245, 247, 248, 249, 250, 254, 255,\n",
      "       256, 257, 259, 260, 261, 263, 264, 265, 266, 267, 268, 269, 270,\n",
      "       271, 272, 273, 274, 275, 276, 277, 278, 279, 280, 282, 283, 284,\n",
      "       286, 287, 288, 290, 291, 292, 293, 294, 295, 296, 298, 299, 300,\n",
      "       301, 303, 304, 305, 306, 307, 308, 309, 310, 312, 313, 314, 315,\n",
      "       317, 318, 319]),)\n"
     ]
    }
   ],
   "source": [
    "labels = ['Task', 'Pos', 'Symbol', 'Task x Pos', 'Task x Symbol', \n",
    "          'Pos x Symbol', 'Task x Pos x Symbol']\n",
    "\n",
    "for i in range(7):\n",
    "    print(labels[i], \": \", np.where(cat_of_neurons == i))"
   ]
  },
  {
   "cell_type": "markdown",
   "metadata": {},
   "source": [
    "# Check what for specific neurons are selective"
   ]
  },
  {
   "cell_type": "code",
   "execution_count": 23,
   "metadata": {},
   "outputs": [
    {
     "name": "stdout",
     "output_type": "stream",
     "text": [
      "   Symbol    |  Position |   t-statistics   |    p-value\n",
      "     5          4             15.193                 0.000\n",
      "     11          4             15.347                 0.000\n",
      "     14          4             11.817                 0.000\n",
      "     19          4             8.821                 0.000\n",
      "     21          4             14.033                 0.000\n",
      "     24          4             15.001                 0.000\n",
      "     25          3             0.851                 0.396\n",
      "     25          4             168.892                 0.000\n",
      "     27          4             9.684                 0.000\n",
      "     28          0             12.040                 0.000\n",
      "     28          1             11.012                 0.000\n",
      "     28          2             6.865                 0.000\n",
      "     28          3             8.724                 0.000\n",
      "     28          4             218.054                 0.000\n"
     ]
    }
   ],
   "source": [
    "neuron_i = 36 \n",
    "tmp_rates_neur = tmp_rates[:, :, neuron_i]\n",
    "tmp_rates_rnd_steps = tmp_rates_neur[dp_to_take, rnd_pos[dp_to_take]]\n",
    "\n",
    "# Position and Symbol\n",
    "# We are interested in a symbol occuring in all positions (0, 1, 2, 3, 4).\n",
    "print('   Symbol    |  Position |   t-statistics   |    p-value')\n",
    "for sym in range(31):\n",
    "    for pos in range(5):\n",
    "        sym_pos_inside = tmp_rates_rnd_steps[np.logical_and(sym_rnd_steps == sym, rnd_pos[dp_to_take] == pos)]\n",
    "        sym_pos_not_inside = tmp_rates_rnd_steps[np.logical_and(sym_rnd_steps == sym, rnd_pos[dp_to_take] == pos) == False]\n",
    "        random.shuffle(sym_pos_not_inside)\n",
    "\n",
    "    #     print(len(sym_pos_inside), len(sym_pos_not_inside))\n",
    "        tstats_val, p_val = ttest_ind(sym_pos_inside, sym_pos_not_inside, equal_var=False)\n",
    "        if tstats_val > 0: \n",
    "            print('     %d         %  d             %.3f                 %.3f' %(sym, pos, tstats_val, p_val))"
   ]
  },
  {
   "cell_type": "code",
   "execution_count": 24,
   "metadata": {},
   "outputs": [
    {
     "name": "stdout",
     "output_type": "stream",
     "text": [
      "   Symbol    |  Position |   t-statistics   |    p-value\n",
      "     0          0             1.001                 0.317\n",
      "     3          0             13.345                 0.000\n",
      "     4          0             4.340                 0.000\n",
      "     6          0             15.904                 0.000\n",
      "     6          1             0.518                 0.604\n",
      "     6          4             15.240                 0.000\n",
      "     9          0             10.077                 0.000\n",
      "     14          4             4.890                 0.000\n",
      "     15          0             3.206                 0.001\n",
      "     15          4             14.963                 0.000\n",
      "     16          0             15.376                 0.000\n",
      "     16          4             14.265                 0.000\n",
      "     22          0             14.798                 0.000\n",
      "     22          4             3.821                 0.000\n",
      "     26          4             7.656                 0.000\n",
      "     29          0             15.641                 0.000\n",
      "     29          4             15.022                 0.000\n"
     ]
    }
   ],
   "source": [
    "neuron_i = 38 \n",
    "tmp_rates_neur = tmp_rates[:, :, neuron_i]\n",
    "tmp_rates_rnd_steps = tmp_rates_neur[dp_to_take, rnd_pos[dp_to_take]]\n",
    "\n",
    "# Position and Symbol\n",
    "# Possible position: 0, 1, 2, 3, 4\n",
    "# Selectivity to positions (0 and 4) or (1 and 3) is due to the task duality.\n",
    "# Now we are trying to find occurences such as: \n",
    "# Symbol + Position and Symbol + (4 - Position)\n",
    "\n",
    "print('   Symbol    |  Position |   t-statistics   |    p-value')\n",
    "for sym in range(31):\n",
    "    for pos in range(5):\n",
    "        sym_pos_inside = tmp_rates_rnd_steps[np.logical_and(sym_rnd_steps == sym, rnd_pos[dp_to_take] == pos)]\n",
    "        sym_pos_not_inside = tmp_rates_rnd_steps[np.logical_and(sym_rnd_steps == sym, rnd_pos[dp_to_take] == pos) == False]\n",
    "        random.shuffle(sym_pos_not_inside)\n",
    "\n",
    "    #     print(len(sym_pos_inside), len(sym_pos_not_inside))\n",
    "        tstats_val, p_val = ttest_ind(sym_pos_inside, sym_pos_not_inside, equal_var=False)\n",
    "        if tstats_val > 0: \n",
    "            print('     %d         %  d             %.3f                 %.3f' %(sym, pos, tstats_val, p_val))        "
   ]
  },
  {
   "cell_type": "markdown",
   "metadata": {},
   "source": [
    "# Generate plots for Fig. 4E, F"
   ]
  },
  {
   "cell_type": "code",
   "execution_count": 25,
   "metadata": {},
   "outputs": [
    {
     "data": {
      "text/plain": [
       "(array([0.00883614, 0.11857896, 0.16429187, 0.03169413, 0.03346828,\n",
       "        0.46662975, 0.13664077]),\n",
       " array([0.00053886, 0.05271352, 0.15347319, 0.08850633, 0.01937633,\n",
       "        0.26297507, 0.39433108]))"
      ]
     },
     "execution_count": 25,
     "metadata": {},
     "output_type": "execute_result"
    }
   ],
   "source": [
    "results_neuron[36, :-1, 3], results_neuron[38, :-1, 3]"
   ]
  },
  {
   "cell_type": "code",
   "execution_count": 26,
   "metadata": {},
   "outputs": [
    {
     "data": {
      "text/plain": [
       "[Text(0, 0, '1'),\n",
       " Text(0, 0, '2'),\n",
       " Text(0, 0, '3'),\n",
       " Text(0, 0, '4'),\n",
       " Text(0, 0, '5')]"
      ]
     },
     "execution_count": 26,
     "metadata": {},
     "output_type": "execute_result"
    },
    {
     "data": {
      "image/png": "[encoded data removed]",
      "text/plain": [
       "<Figure size 360x172.8 with 3 Axes>"
      ]
     },
     "metadata": {},
     "output_type": "display_data"
    }
   ],
   "source": [
    "# HISTOGRAM (Occurence of symbol, Symbol in position, Any symbol in position)\n",
    "# EPISODES WITH IDENTITY\n",
    "\n",
    "# Figure 4F, left panel\n",
    "neuron_i = 36 # Selective for: Pos  x Symbol\n",
    "sym = 28\n",
    "\n",
    "# Figure 4E, left panel\n",
    "# neuron_i = 38 # Selective for: Task x Pos x Symbol\n",
    "# sym = 6 \n",
    "\n",
    "# Symbol occurs or not\n",
    "ind_sym = (episodes == sym)\n",
    "tmp = spike_counts[:, :, :, neuron_i]\n",
    "tmp_index = np.logical_and(ind_sym, id_ep[:, :, :, neuron_i])\n",
    "sym_inside = tmp[tmp_index]\n",
    "\n",
    "ind_not_sym = (episodes != sym)\n",
    "tmp = spike_counts[:, :, :, neuron_i]\n",
    "tmp_index = np.logical_and(ind_not_sym, id_ep[:, :, :, neuron_i])\n",
    "sym_not_inside = tmp[tmp_index]\n",
    "\n",
    "# Symbol occurs in position 1 - 5\n",
    "sym_pos = np.zeros((5, ))\n",
    "for i in range(5):\n",
    "    ind_sym_pos = (episodes[:, :, i] == sym)\n",
    "    tmp = spike_counts[:, :, i, neuron_i]\n",
    "    tmp_index = np.logical_and(ind_sym_pos, id_ep[:, :, i, neuron_i])\n",
    "    ss = tmp[tmp_index]\n",
    "    sym_pos[i] = np.mean(ss)\n",
    "      \n",
    "# Selective for symbol - IDENTITY\n",
    "fig, axs = plt.subplots(1, 3, figsize=(5, 2.4), sharey=True, gridspec_kw={'width_ratios': [2/5, 1, 1]})\n",
    "# fig.suptitle('Neuron {}, selective for symbol {} - duplication episodes'.format(neuron_i, sym), y=1.02)\n",
    "\n",
    "ax = axs[0]\n",
    "# ax.set_title('Occurence of symbol {}'.format(sym))\n",
    "ax.bar(x=[1, 2], height=[np.mean(sym_inside), np.mean(sym_not_inside)], width=0.75)\n",
    "ax.spines['right'].set_visible(False)\n",
    "ax.spines['top'].set_visible(False)\n",
    "ax.set_ylabel('Spikes/bin')\n",
    "ax.set_ylim([0, 85])\n",
    "ax.set_xlabel('Symbol {} occurs\\n in bin'.format(sym))\n",
    "ax.set_xticks(np.arange(2) + 1)\n",
    "ax.set_xticklabels(['Yes', 'No'])\n",
    "ax.set_xticklabels(['', ''])\n",
    "\n",
    "ax = axs[1]\n",
    "# ax.set_title('Per step where \\nsymbol {} occurs'.format(sym))\n",
    "ax.bar(x=[1, 2, 3, 4, 5], height=sym_pos, width=0.75)\n",
    "ax.spines['right'].set_visible(False)\n",
    "ax.spines['top'].set_visible(False)\n",
    "# ax.set_xlabel('Position')\n",
    "ax.set_xticks(np.arange(5) + 1)\n",
    "ax.set_xticklabels(['1', '2', '3', '4', '5'])\n",
    "\n",
    "ax = axs[2]\n",
    "# ax.set_title('Per step - avg. over \\nall dupl. episodes')\n",
    "all_episodes = np.mean(id_spks[:, :, neuron_i], axis=0)\n",
    "ax.bar(x=[1, 2, 3, 4, 5], height=all_episodes, width=0.75)\n",
    "ax.spines['right'].set_visible(False)\n",
    "ax.spines['top'].set_visible(False)\n",
    "# ax.set_xlabel('Position')\n",
    "ax.set_xticks(np.arange(5) + 1)\n",
    "ax.set_xticklabels(['1', '2', '3', '4', '5'])\n",
    "\n",
    "# Save the figure and show it\n",
    "# fig.savefig(os.path.join(dpath_test, 'neuron-{}-sym-{}-duplication-episodes.png'.format(neuron_i,sym)), bbox_inches='tight', dpi=175)"
   ]
  },
  {
   "cell_type": "code",
   "execution_count": 27,
   "metadata": {},
   "outputs": [
    {
     "data": {
      "text/plain": [
       "[Text(0, 0, '1'),\n",
       " Text(0, 0, '2'),\n",
       " Text(0, 0, '3'),\n",
       " Text(0, 0, '4'),\n",
       " Text(0, 0, '5')]"
      ]
     },
     "execution_count": 27,
     "metadata": {},
     "output_type": "execute_result"
    },
    {
     "data": {
      "image/png": "[encoded data removed]",
      "text/plain": [
       "<Figure size 360x172.8 with 3 Axes>"
      ]
     },
     "metadata": {},
     "output_type": "display_data"
    }
   ],
   "source": [
    "# HISTOGRAM (Occurence of symbol, Symbol in position, Any symbol in position)\n",
    "# EPISODES WITH REVERSAL\n",
    "\n",
    "# Figure 4F, right panel\n",
    "neuron_i = 36\n",
    "sym = 28\n",
    "\n",
    "# Figure 4E, right panel\n",
    "# neuron_i = 38\n",
    "# sym = 6 \n",
    "\n",
    "# Symbol occurs or not\n",
    "ind_sym = (episodes == sym)\n",
    "tmp = spike_counts[:, :, :, neuron_i]\n",
    "tmp_index = np.logical_and(ind_sym, rev_ep[:, :, :, neuron_i])\n",
    "sym_inside = tmp[tmp_index]\n",
    "\n",
    "ind_not_sym = (episodes != sym)\n",
    "tmp = spike_counts[:, :, :, neuron_i]\n",
    "tmp_index = np.logical_and(ind_not_sym, rev_ep[:, :, :, neuron_i])\n",
    "sym_not_inside = tmp[tmp_index]\n",
    "\n",
    "# Symbol occurs in position 1 - 5\n",
    "sym_pos = np.zeros((5, ))\n",
    "for i in range(5):\n",
    "    ind_sym_pos = (episodes[:, :, i] == sym)\n",
    "    tmp = spike_counts[:, :, i, neuron_i]\n",
    "    tmp_index = np.logical_and(ind_sym_pos, rev_ep[:, :, i, neuron_i])\n",
    "    ss = tmp[tmp_index]\n",
    "    sym_pos[i] = np.mean(ss)\n",
    "    \n",
    "# Selective for symbol - REVERSAL\n",
    "fig, axs = plt.subplots(1, 3, figsize=(5, 2.4), sharey=True, gridspec_kw={'width_ratios': [2/5, 1, 1] })\n",
    "# fig.suptitle('Neuron {}, selective for symbol {} - reversal episodes'.format(neuron_i, sym), y=1.02)\n",
    "\n",
    "ax = axs[0]\n",
    "# ax.set_title('Occurence of symbol {}'.format(sym))\n",
    "ax.bar(x=[1, 2], height=[np.mean(sym_inside), np.mean(sym_not_inside)], width=0.75)\n",
    "ax.spines['right'].set_visible(False)\n",
    "ax.spines['top'].set_visible(False)\n",
    "ax.set_ylabel('Spikes/bin')\n",
    "ax.set_ylim([0, 85])\n",
    "ax.set_xlabel('Symbol {} occurs\\n in bin'.format(sym))\n",
    "ax.set_xticks(np.arange(2) + 1)\n",
    "# ax.set_xticklabels(['Yes', 'No'])\n",
    "ax.set_xticklabels(['', ''])\n",
    "\n",
    "\n",
    "ax = axs[1]\n",
    "# ax.set_title('Per step where \\nsymbol {} occurs'.format(sym))\n",
    "ax.bar(x=[1, 2, 3, 4, 5], height=sym_pos, width=0.75)\n",
    "ax.spines['right'].set_visible(False)\n",
    "ax.spines['top'].set_visible(False)\n",
    "# ax.set_xlabel('Position')\n",
    "ax.set_xticks(np.arange(5) + 1)\n",
    "ax.set_xticklabels(['1', '2', '3', '4', '5'])\n",
    "\n",
    "ax = axs[2]\n",
    "# ax.set_title('Per step - avg. over \\nall reversal episodes')\n",
    "all_episodes = np.mean(rev_spks[:, :, neuron_i], axis=0)\n",
    "ax.bar(x=[1, 2, 3, 4, 5], height=all_episodes, width=0.75)\n",
    "ax.spines['right'].set_visible(False)\n",
    "ax.spines['top'].set_visible(False)\n",
    "# ax.set_xlabel('Position')\n",
    "ax.set_xticks(np.arange(5) + 1)\n",
    "ax.set_xticklabels(['1', '2', '3', '4', '5'])\n",
    "\n",
    "# Save the figure and show it\n",
    "# fig.savefig(os.path.join(dpath_test, 'neuron-{}-sym-{}-reversal-episodes.png'.format(neuron_i,sym)), bbox_inches='tight', dpi=175)"
   ]
  },
  {
   "cell_type": "code",
   "execution_count": null,
   "metadata": {},
   "outputs": [],
   "source": []
  }
 ],
 "metadata": {
  "kernelspec": {
   "display_name": "Python 3",
   "language": "python",
   "name": "python3"
  },
  "language_info": {
   "codemirror_mode": {
    "name": "ipython",
    "version": 3
   },
   "file_extension": ".py",
   "mimetype": "text/x-python",
   "name": "python",
   "nbconvert_exporter": "python",
   "pygments_lexer": "ipython3",
   "version": "3.7.3"
  },
  "toc": {
   "base_numbering": 1,
   "nav_menu": {},
   "number_sections": true,
   "sideBar": true,
   "skip_h1_title": false,
   "title_cell": "Table of Contents",
   "title_sidebar": "Contents",
   "toc_cell": false,
   "toc_position": {},
   "toc_section_display": true,
   "toc_window_display": true
  }
 },
 "nbformat": 4,
 "nbformat_minor": 2
}
